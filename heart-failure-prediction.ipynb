{
 "cells": [
  {
   "cell_type": "markdown",
   "id": "81149560",
   "metadata": {
    "papermill": {
     "duration": 0.004946,
     "end_time": "2024-01-24T11:14:21.220714",
     "exception": false,
     "start_time": "2024-01-24T11:14:21.215768",
     "status": "completed"
    },
    "tags": []
   },
   "source": [
    "# Project Overview"
   ]
  },
  {
   "cell_type": "markdown",
   "id": "0baeaf0b",
   "metadata": {
    "papermill": {
     "duration": 0.003883,
     "end_time": "2024-01-24T11:14:21.228960",
     "exception": false,
     "start_time": "2024-01-24T11:14:21.225077",
     "status": "completed"
    },
    "tags": []
   },
   "source": [
    "The goal of this project is to predict whether a patient will experience a heart disease given their medical record.\n",
    "\n",
    "**Attribute Information:**\n",
    "* Age: age of the patient [years]\n",
    "* Sex: sex of the patient [M: Male, F: Female]\n",
    "* ChestPainType: chest pain type [TA: Typical Angina, ATA: Atypical Angina, NAP: Non-Anginal Pain, ASY: Asymptomatic]\n",
    "* RestingBP: resting blood pressure [mm Hg]\n",
    "* Cholesterol: serum cholesterol [mm/dl]\n",
    "* FastingBS: fasting blood sugar [1: if FastingBS > 120 mg/dl, 0: otherwise]\n",
    "* RestingECG: resting electrocardiogram results [Normal: Normal, ST: having ST-T wave abnormality (T wave inversions and/or ST elevation or depression of > 0.05 mV), LVH: showing probable or definite left ventricular hypertrophy by Estes' criteria]\n",
    "* MaxHR: maximum heart rate achieved [Numeric value between 60 and 202]\n",
    "* ExerciseAngina: exercise-induced angina [Y: Yes, N: No]\n",
    "* Oldpeak: oldpeak = ST [Numeric value measured in depression]\n",
    "* ST_Slope: the slope of the peak exercise ST segment [Up: upsloping, Flat: flat, Down: downsloping]\n",
    "* HeartDisease: output class [1: heart disease, 0: Normal]\n",
    "\n",
    "**The Plan**\n",
    "1. Identified the date types, missing values, data distribution, correlation.\n",
    "2. Split the data into training, validation, test datasets.\n",
    "3. Initialize a pipeline for transformations.\n",
    "4. Create a strategy for dealing with outliers and missing values (fill with mean, drop missing values, drop outlier columns).\n",
    "5. Create new features, perform normalization and other transformations.\n",
    "6. Initialized the classifiers, select parameters to tune.\n",
    "7. Performed training with grid search and cross validation.\n",
    "8. Select the best set of hyper parameters for each classifier.\n",
    "9. Compare all the classifiers with there best hyper parameters.\n",
    "10. Select the best model and evaluate it on the test set.\n",
    "11. Document your findings (feature importance, etc.) "
   ]
  },
  {
   "cell_type": "code",
   "execution_count": 1,
   "id": "e6d67ab9",
   "metadata": {
    "_cell_guid": "b1076dfc-b9ad-4769-8c92-a6c4dae69d19",
    "_uuid": "8f2839f25d086af736a60e9eeb907d3b93b6e0e5",
    "execution": {
     "iopub.execute_input": "2024-01-24T11:14:21.239895Z",
     "iopub.status.busy": "2024-01-24T11:14:21.239047Z",
     "iopub.status.idle": "2024-01-24T11:14:21.712054Z",
     "shell.execute_reply": "2024-01-24T11:14:21.709955Z"
    },
    "papermill": {
     "duration": 0.483019,
     "end_time": "2024-01-24T11:14:21.716070",
     "exception": false,
     "start_time": "2024-01-24T11:14:21.233051",
     "status": "completed"
    },
    "tags": []
   },
   "outputs": [
    {
     "name": "stdout",
     "output_type": "stream",
     "text": [
      "/kaggle/input/heart-failure-prediction/heart.csv\n"
     ]
    }
   ],
   "source": [
    "# This Python 3 environment comes with many helpful analytics libraries installed\n",
    "# It is defined by the kaggle/python Docker image: https://github.com/kaggle/docker-python\n",
    "# For example, here's several helpful packages to load\n",
    "\n",
    "import numpy as np # linear algebra\n",
    "import pandas as pd # data processing, CSV file I/O (e.g. pd.read_csv)\n",
    "\n",
    "# Input data files are available in the read-only \"../input/\" directory\n",
    "# For example, running this (by clicking run or pressing Shift+Enter) will list all files under the input directory\n",
    "\n",
    "import os\n",
    "for dirname, _, filenames in os.walk('/kaggle/input'):\n",
    "    for filename in filenames:\n",
    "        print(os.path.join(dirname, filename))\n",
    "\n",
    "# You can write up to 20GB to the current directory (/kaggle/working/) that gets preserved as output when you create a version using \"Save & Run All\" \n",
    "# You can also write temporary files to /kaggle/temp/, but they won't be saved outside of the current session"
   ]
  },
  {
   "cell_type": "code",
   "execution_count": 2,
   "id": "d81a7f84",
   "metadata": {
    "execution": {
     "iopub.execute_input": "2024-01-24T11:14:21.726950Z",
     "iopub.status.busy": "2024-01-24T11:14:21.726357Z",
     "iopub.status.idle": "2024-01-24T11:14:21.732243Z",
     "shell.execute_reply": "2024-01-24T11:14:21.731281Z"
    },
    "papermill": {
     "duration": 0.014064,
     "end_time": "2024-01-24T11:14:21.734667",
     "exception": false,
     "start_time": "2024-01-24T11:14:21.720603",
     "status": "completed"
    },
    "tags": []
   },
   "outputs": [],
   "source": [
    "import numpy as np\n",
    "import pandas as pd\n",
    "# from sklearn.metrics import accuracy"
   ]
  },
  {
   "cell_type": "code",
   "execution_count": 3,
   "id": "7884d610",
   "metadata": {
    "execution": {
     "iopub.execute_input": "2024-01-24T11:14:21.745288Z",
     "iopub.status.busy": "2024-01-24T11:14:21.744835Z",
     "iopub.status.idle": "2024-01-24T11:14:21.796573Z",
     "shell.execute_reply": "2024-01-24T11:14:21.795289Z"
    },
    "papermill": {
     "duration": 0.060274,
     "end_time": "2024-01-24T11:14:21.799166",
     "exception": false,
     "start_time": "2024-01-24T11:14:21.738892",
     "status": "completed"
    },
    "tags": []
   },
   "outputs": [
    {
     "data": {
      "text/html": [
       "<div>\n",
       "<style scoped>\n",
       "    .dataframe tbody tr th:only-of-type {\n",
       "        vertical-align: middle;\n",
       "    }\n",
       "\n",
       "    .dataframe tbody tr th {\n",
       "        vertical-align: top;\n",
       "    }\n",
       "\n",
       "    .dataframe thead th {\n",
       "        text-align: right;\n",
       "    }\n",
       "</style>\n",
       "<table border=\"1\" class=\"dataframe\">\n",
       "  <thead>\n",
       "    <tr style=\"text-align: right;\">\n",
       "      <th></th>\n",
       "      <th>Age</th>\n",
       "      <th>Sex</th>\n",
       "      <th>ChestPainType</th>\n",
       "      <th>RestingBP</th>\n",
       "      <th>Cholesterol</th>\n",
       "      <th>FastingBS</th>\n",
       "      <th>RestingECG</th>\n",
       "      <th>MaxHR</th>\n",
       "      <th>ExerciseAngina</th>\n",
       "      <th>Oldpeak</th>\n",
       "      <th>ST_Slope</th>\n",
       "      <th>HeartDisease</th>\n",
       "    </tr>\n",
       "  </thead>\n",
       "  <tbody>\n",
       "    <tr>\n",
       "      <th>0</th>\n",
       "      <td>40</td>\n",
       "      <td>M</td>\n",
       "      <td>ATA</td>\n",
       "      <td>140</td>\n",
       "      <td>289</td>\n",
       "      <td>0</td>\n",
       "      <td>Normal</td>\n",
       "      <td>172</td>\n",
       "      <td>N</td>\n",
       "      <td>0.0</td>\n",
       "      <td>Up</td>\n",
       "      <td>0</td>\n",
       "    </tr>\n",
       "    <tr>\n",
       "      <th>1</th>\n",
       "      <td>49</td>\n",
       "      <td>F</td>\n",
       "      <td>NAP</td>\n",
       "      <td>160</td>\n",
       "      <td>180</td>\n",
       "      <td>0</td>\n",
       "      <td>Normal</td>\n",
       "      <td>156</td>\n",
       "      <td>N</td>\n",
       "      <td>1.0</td>\n",
       "      <td>Flat</td>\n",
       "      <td>1</td>\n",
       "    </tr>\n",
       "    <tr>\n",
       "      <th>2</th>\n",
       "      <td>37</td>\n",
       "      <td>M</td>\n",
       "      <td>ATA</td>\n",
       "      <td>130</td>\n",
       "      <td>283</td>\n",
       "      <td>0</td>\n",
       "      <td>ST</td>\n",
       "      <td>98</td>\n",
       "      <td>N</td>\n",
       "      <td>0.0</td>\n",
       "      <td>Up</td>\n",
       "      <td>0</td>\n",
       "    </tr>\n",
       "    <tr>\n",
       "      <th>3</th>\n",
       "      <td>48</td>\n",
       "      <td>F</td>\n",
       "      <td>ASY</td>\n",
       "      <td>138</td>\n",
       "      <td>214</td>\n",
       "      <td>0</td>\n",
       "      <td>Normal</td>\n",
       "      <td>108</td>\n",
       "      <td>Y</td>\n",
       "      <td>1.5</td>\n",
       "      <td>Flat</td>\n",
       "      <td>1</td>\n",
       "    </tr>\n",
       "    <tr>\n",
       "      <th>4</th>\n",
       "      <td>54</td>\n",
       "      <td>M</td>\n",
       "      <td>NAP</td>\n",
       "      <td>150</td>\n",
       "      <td>195</td>\n",
       "      <td>0</td>\n",
       "      <td>Normal</td>\n",
       "      <td>122</td>\n",
       "      <td>N</td>\n",
       "      <td>0.0</td>\n",
       "      <td>Up</td>\n",
       "      <td>0</td>\n",
       "    </tr>\n",
       "  </tbody>\n",
       "</table>\n",
       "</div>"
      ],
      "text/plain": [
       "   Age Sex ChestPainType  RestingBP  Cholesterol  FastingBS RestingECG  MaxHR  \\\n",
       "0   40   M           ATA        140          289          0     Normal    172   \n",
       "1   49   F           NAP        160          180          0     Normal    156   \n",
       "2   37   M           ATA        130          283          0         ST     98   \n",
       "3   48   F           ASY        138          214          0     Normal    108   \n",
       "4   54   M           NAP        150          195          0     Normal    122   \n",
       "\n",
       "  ExerciseAngina  Oldpeak ST_Slope  HeartDisease  \n",
       "0              N      0.0       Up             0  \n",
       "1              N      1.0     Flat             1  \n",
       "2              N      0.0       Up             0  \n",
       "3              Y      1.5     Flat             1  \n",
       "4              N      0.0       Up             0  "
      ]
     },
     "execution_count": 3,
     "metadata": {},
     "output_type": "execute_result"
    }
   ],
   "source": [
    "data_df = pd.read_csv('/kaggle/input/heart-failure-prediction/heart.csv')\n",
    "data_df.head()"
   ]
  },
  {
   "cell_type": "code",
   "execution_count": 4,
   "id": "3d94e844",
   "metadata": {
    "execution": {
     "iopub.execute_input": "2024-01-24T11:14:21.811166Z",
     "iopub.status.busy": "2024-01-24T11:14:21.810359Z",
     "iopub.status.idle": "2024-01-24T11:14:21.822132Z",
     "shell.execute_reply": "2024-01-24T11:14:21.820859Z"
    },
    "papermill": {
     "duration": 0.021187,
     "end_time": "2024-01-24T11:14:21.824940",
     "exception": false,
     "start_time": "2024-01-24T11:14:21.803753",
     "status": "completed"
    },
    "tags": []
   },
   "outputs": [
    {
     "data": {
      "text/plain": [
       "Age               0\n",
       "Sex               0\n",
       "ChestPainType     0\n",
       "RestingBP         0\n",
       "Cholesterol       0\n",
       "FastingBS         0\n",
       "RestingECG        0\n",
       "MaxHR             0\n",
       "ExerciseAngina    0\n",
       "Oldpeak           0\n",
       "ST_Slope          0\n",
       "HeartDisease      0\n",
       "dtype: int64"
      ]
     },
     "execution_count": 4,
     "metadata": {},
     "output_type": "execute_result"
    }
   ],
   "source": [
    "# Check for missing values\n",
    "data_df.isna().sum()"
   ]
  },
  {
   "cell_type": "code",
   "execution_count": 5,
   "id": "304dc20a",
   "metadata": {
    "execution": {
     "iopub.execute_input": "2024-01-24T11:14:21.836721Z",
     "iopub.status.busy": "2024-01-24T11:14:21.836310Z",
     "iopub.status.idle": "2024-01-24T11:14:21.869367Z",
     "shell.execute_reply": "2024-01-24T11:14:21.867175Z"
    },
    "papermill": {
     "duration": 0.042547,
     "end_time": "2024-01-24T11:14:21.872323",
     "exception": false,
     "start_time": "2024-01-24T11:14:21.829776",
     "status": "completed"
    },
    "tags": []
   },
   "outputs": [
    {
     "name": "stdout",
     "output_type": "stream",
     "text": [
      "<class 'pandas.core.frame.DataFrame'>\n",
      "RangeIndex: 918 entries, 0 to 917\n",
      "Data columns (total 12 columns):\n",
      " #   Column          Non-Null Count  Dtype  \n",
      "---  ------          --------------  -----  \n",
      " 0   Age             918 non-null    int64  \n",
      " 1   Sex             918 non-null    object \n",
      " 2   ChestPainType   918 non-null    object \n",
      " 3   RestingBP       918 non-null    int64  \n",
      " 4   Cholesterol     918 non-null    int64  \n",
      " 5   FastingBS       918 non-null    int64  \n",
      " 6   RestingECG      918 non-null    object \n",
      " 7   MaxHR           918 non-null    int64  \n",
      " 8   ExerciseAngina  918 non-null    object \n",
      " 9   Oldpeak         918 non-null    float64\n",
      " 10  ST_Slope        918 non-null    object \n",
      " 11  HeartDisease    918 non-null    int64  \n",
      "dtypes: float64(1), int64(6), object(5)\n",
      "memory usage: 86.2+ KB\n"
     ]
    }
   ],
   "source": [
    "# Inspect data types\n",
    "data_df.info()"
   ]
  },
  {
   "cell_type": "code",
   "execution_count": 6,
   "id": "f701bada",
   "metadata": {
    "execution": {
     "iopub.execute_input": "2024-01-24T11:14:21.884340Z",
     "iopub.status.busy": "2024-01-24T11:14:21.883889Z",
     "iopub.status.idle": "2024-01-24T11:14:21.898550Z",
     "shell.execute_reply": "2024-01-24T11:14:21.897277Z"
    },
    "papermill": {
     "duration": 0.024051,
     "end_time": "2024-01-24T11:14:21.901449",
     "exception": false,
     "start_time": "2024-01-24T11:14:21.877398",
     "status": "completed"
    },
    "tags": []
   },
   "outputs": [
    {
     "data": {
      "text/plain": [
       "Age                50\n",
       "Sex                 2\n",
       "ChestPainType       4\n",
       "RestingBP          67\n",
       "Cholesterol       222\n",
       "FastingBS           2\n",
       "RestingECG          3\n",
       "MaxHR             119\n",
       "ExerciseAngina      2\n",
       "Oldpeak            53\n",
       "ST_Slope            3\n",
       "HeartDisease        2\n",
       "dtype: int64"
      ]
     },
     "execution_count": 6,
     "metadata": {},
     "output_type": "execute_result"
    }
   ],
   "source": [
    "# Inspect unique values\n",
    "data_df.nunique()"
   ]
  },
  {
   "cell_type": "code",
   "execution_count": 7,
   "id": "676fb92a",
   "metadata": {
    "execution": {
     "iopub.execute_input": "2024-01-24T11:14:21.913954Z",
     "iopub.status.busy": "2024-01-24T11:14:21.913547Z",
     "iopub.status.idle": "2024-01-24T11:14:21.918528Z",
     "shell.execute_reply": "2024-01-24T11:14:21.917147Z"
    },
    "papermill": {
     "duration": 0.01445,
     "end_time": "2024-01-24T11:14:21.921082",
     "exception": false,
     "start_time": "2024-01-24T11:14:21.906632",
     "status": "completed"
    },
    "tags": []
   },
   "outputs": [],
   "source": [
    "# Given the information from the previous two cells we can split the features into numerical, binary, categorical\n",
    "# numerical = "
   ]
  }
 ],
 "metadata": {
  "kaggle": {
   "accelerator": "none",
   "dataSources": [
    {
     "datasetId": 1582403,
     "sourceId": 2603715,
     "sourceType": "datasetVersion"
    }
   ],
   "dockerImageVersionId": 30635,
   "isGpuEnabled": false,
   "isInternetEnabled": true,
   "language": "python",
   "sourceType": "notebook"
  },
  "kernelspec": {
   "display_name": "Python 3",
   "language": "python",
   "name": "python3"
  },
  "language_info": {
   "codemirror_mode": {
    "name": "ipython",
    "version": 3
   },
   "file_extension": ".py",
   "mimetype": "text/x-python",
   "name": "python",
   "nbconvert_exporter": "python",
   "pygments_lexer": "ipython3",
   "version": "3.10.12"
  },
  "papermill": {
   "default_parameters": {},
   "duration": 5.079998,
   "end_time": "2024-01-24T11:14:22.549350",
   "environment_variables": {},
   "exception": null,
   "input_path": "__notebook__.ipynb",
   "output_path": "__notebook__.ipynb",
   "parameters": {},
   "start_time": "2024-01-24T11:14:17.469352",
   "version": "2.4.0"
  }
 },
 "nbformat": 4,
 "nbformat_minor": 5
}
