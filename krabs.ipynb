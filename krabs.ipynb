{
 "cells": [
  {
   "cell_type": "code",
   "execution_count": 1,
   "id": "13da3a70",
   "metadata": {
    "_cell_guid": "b1076dfc-b9ad-4769-8c92-a6c4dae69d19",
    "_uuid": "8f2839f25d086af736a60e9eeb907d3b93b6e0e5",
    "execution": {
     "iopub.execute_input": "2024-02-21T23:23:14.677508Z",
     "iopub.status.busy": "2024-02-21T23:23:14.676697Z",
     "iopub.status.idle": "2024-02-21T23:23:17.654064Z",
     "shell.execute_reply": "2024-02-21T23:23:17.652633Z"
    },
    "papermill": {
     "duration": 2.990619,
     "end_time": "2024-02-21T23:23:17.657528",
     "exception": false,
     "start_time": "2024-02-21T23:23:14.666909",
     "status": "completed"
    },
    "tags": []
   },
   "outputs": [],
   "source": [
    "import numpy as np # linear algebra\n",
    "import pandas as pd # data processing, CSV file I/O (e.g. pd.read_csv)\n",
    "import os\n",
    "import seaborn as sns\n",
    "import matplotlib.pyplot as plt"
   ]
  },
  {
   "cell_type": "markdown",
   "id": "bcb40dc9",
   "metadata": {
    "papermill": {
     "duration": 0.006535,
     "end_time": "2024-02-21T23:23:17.671466",
     "exception": false,
     "start_time": "2024-02-21T23:23:17.664931",
     "status": "completed"
    },
    "tags": []
   },
   "source": [
    "The dataset is used to estimate the age of the crab based on the physical attributes.\n",
    "* **Sex** - Gender of the Crab - Male, Female and Indeterminate.\n",
    "* **Length** - Length of the Crab (in Feet; 1 foot = 30.48 cms)\n",
    "* **Diameter** - Diameter of the Crab (in Feet; 1 foot = 30.48 cms)\n",
    "* **Height** - Height of the Crab (in Feet; 1 foot = 30.48 cms)\n",
    "* **Weight** - Weight of the Crab (in ounces; 1 Pound = 16 ounces)\n",
    "* **Shucked Weight** - Weight without the shell (in ounces; 1 Pound = 16 ounces)\n",
    "* **Viscera Weight** - weight that wraps around your abdominal organs deep inside body (in ounces; 1 Pound = 16 ounces)\n",
    "* **Shell Weight** - Weight of the Shell (in ounces; 1 Pound = 16 ounces)\n",
    "* **Age** - Age of the Crab (in months)"
   ]
  },
  {
   "cell_type": "code",
   "execution_count": 2,
   "id": "c74be2d7",
   "metadata": {
    "execution": {
     "iopub.execute_input": "2024-02-21T23:23:17.687789Z",
     "iopub.status.busy": "2024-02-21T23:23:17.687031Z",
     "iopub.status.idle": "2024-02-21T23:23:17.961129Z",
     "shell.execute_reply": "2024-02-21T23:23:17.959703Z"
    },
    "papermill": {
     "duration": 0.285921,
     "end_time": "2024-02-21T23:23:17.964318",
     "exception": false,
     "start_time": "2024-02-21T23:23:17.678397",
     "status": "completed"
    },
    "tags": []
   },
   "outputs": [
    {
     "data": {
      "text/html": [
       "<div>\n",
       "<style scoped>\n",
       "    .dataframe tbody tr th:only-of-type {\n",
       "        vertical-align: middle;\n",
       "    }\n",
       "\n",
       "    .dataframe tbody tr th {\n",
       "        vertical-align: top;\n",
       "    }\n",
       "\n",
       "    .dataframe thead th {\n",
       "        text-align: right;\n",
       "    }\n",
       "</style>\n",
       "<table border=\"1\" class=\"dataframe\">\n",
       "  <thead>\n",
       "    <tr style=\"text-align: right;\">\n",
       "      <th></th>\n",
       "      <th>Sex</th>\n",
       "      <th>Length</th>\n",
       "      <th>Diameter</th>\n",
       "      <th>Height</th>\n",
       "      <th>Weight</th>\n",
       "      <th>Shucked Weight</th>\n",
       "      <th>Viscera Weight</th>\n",
       "      <th>Shell Weight</th>\n",
       "      <th>Age</th>\n",
       "    </tr>\n",
       "    <tr>\n",
       "      <th>id</th>\n",
       "      <th></th>\n",
       "      <th></th>\n",
       "      <th></th>\n",
       "      <th></th>\n",
       "      <th></th>\n",
       "      <th></th>\n",
       "      <th></th>\n",
       "      <th></th>\n",
       "      <th></th>\n",
       "    </tr>\n",
       "  </thead>\n",
       "  <tbody>\n",
       "    <tr>\n",
       "      <th>0</th>\n",
       "      <td>I</td>\n",
       "      <td>1.5250</td>\n",
       "      <td>1.1750</td>\n",
       "      <td>0.3750</td>\n",
       "      <td>28.973189</td>\n",
       "      <td>12.728926</td>\n",
       "      <td>6.647958</td>\n",
       "      <td>8.348928</td>\n",
       "      <td>9</td>\n",
       "    </tr>\n",
       "    <tr>\n",
       "      <th>1</th>\n",
       "      <td>I</td>\n",
       "      <td>1.1000</td>\n",
       "      <td>0.8250</td>\n",
       "      <td>0.2750</td>\n",
       "      <td>10.418441</td>\n",
       "      <td>4.521745</td>\n",
       "      <td>2.324659</td>\n",
       "      <td>3.401940</td>\n",
       "      <td>8</td>\n",
       "    </tr>\n",
       "    <tr>\n",
       "      <th>2</th>\n",
       "      <td>M</td>\n",
       "      <td>1.3875</td>\n",
       "      <td>1.1125</td>\n",
       "      <td>0.3750</td>\n",
       "      <td>24.777463</td>\n",
       "      <td>11.339800</td>\n",
       "      <td>5.556502</td>\n",
       "      <td>6.662133</td>\n",
       "      <td>9</td>\n",
       "    </tr>\n",
       "    <tr>\n",
       "      <th>3</th>\n",
       "      <td>F</td>\n",
       "      <td>1.7000</td>\n",
       "      <td>1.4125</td>\n",
       "      <td>0.5000</td>\n",
       "      <td>50.660556</td>\n",
       "      <td>20.354941</td>\n",
       "      <td>10.991839</td>\n",
       "      <td>14.996885</td>\n",
       "      <td>11</td>\n",
       "    </tr>\n",
       "    <tr>\n",
       "      <th>4</th>\n",
       "      <td>I</td>\n",
       "      <td>1.2500</td>\n",
       "      <td>1.0125</td>\n",
       "      <td>0.3375</td>\n",
       "      <td>23.289114</td>\n",
       "      <td>11.977664</td>\n",
       "      <td>4.507570</td>\n",
       "      <td>5.953395</td>\n",
       "      <td>8</td>\n",
       "    </tr>\n",
       "  </tbody>\n",
       "</table>\n",
       "</div>"
      ],
      "text/plain": [
       "   Sex  Length  Diameter  Height     Weight  Shucked Weight  Viscera Weight  \\\n",
       "id                                                                            \n",
       "0    I  1.5250    1.1750  0.3750  28.973189       12.728926        6.647958   \n",
       "1    I  1.1000    0.8250  0.2750  10.418441        4.521745        2.324659   \n",
       "2    M  1.3875    1.1125  0.3750  24.777463       11.339800        5.556502   \n",
       "3    F  1.7000    1.4125  0.5000  50.660556       20.354941       10.991839   \n",
       "4    I  1.2500    1.0125  0.3375  23.289114       11.977664        4.507570   \n",
       "\n",
       "    Shell Weight  Age  \n",
       "id                     \n",
       "0       8.348928    9  \n",
       "1       3.401940    8  \n",
       "2       6.662133    9  \n",
       "3      14.996885   11  \n",
       "4       5.953395    8  "
      ]
     },
     "execution_count": 2,
     "metadata": {},
     "output_type": "execute_result"
    }
   ],
   "source": [
    "krabs = pd.read_csv('/kaggle/input/playground-series-s3e16/train.csv', index_col='id')\n",
    "krabs.head()"
   ]
  },
  {
   "cell_type": "code",
   "execution_count": 3,
   "id": "da3a1a71",
   "metadata": {
    "execution": {
     "iopub.execute_input": "2024-02-21T23:23:17.981403Z",
     "iopub.status.busy": "2024-02-21T23:23:17.980866Z",
     "iopub.status.idle": "2024-02-21T23:23:18.020501Z",
     "shell.execute_reply": "2024-02-21T23:23:18.018992Z"
    },
    "papermill": {
     "duration": 0.052489,
     "end_time": "2024-02-21T23:23:18.024111",
     "exception": false,
     "start_time": "2024-02-21T23:23:17.971622",
     "status": "completed"
    },
    "tags": []
   },
   "outputs": [
    {
     "name": "stdout",
     "output_type": "stream",
     "text": [
      "<class 'pandas.core.frame.DataFrame'>\n",
      "Index: 74051 entries, 0 to 74050\n",
      "Data columns (total 9 columns):\n",
      " #   Column          Non-Null Count  Dtype  \n",
      "---  ------          --------------  -----  \n",
      " 0   Sex             74051 non-null  object \n",
      " 1   Length          74051 non-null  float64\n",
      " 2   Diameter        74051 non-null  float64\n",
      " 3   Height          74051 non-null  float64\n",
      " 4   Weight          74051 non-null  float64\n",
      " 5   Shucked Weight  74051 non-null  float64\n",
      " 6   Viscera Weight  74051 non-null  float64\n",
      " 7   Shell Weight    74051 non-null  float64\n",
      " 8   Age             74051 non-null  int64  \n",
      "dtypes: float64(7), int64(1), object(1)\n",
      "memory usage: 5.6+ MB\n"
     ]
    }
   ],
   "source": [
    "krabs.info()"
   ]
  },
  {
   "cell_type": "code",
   "execution_count": 4,
   "id": "e83bfd0f",
   "metadata": {
    "execution": {
     "iopub.execute_input": "2024-02-21T23:23:18.042186Z",
     "iopub.status.busy": "2024-02-21T23:23:18.041020Z",
     "iopub.status.idle": "2024-02-21T23:23:18.117423Z",
     "shell.execute_reply": "2024-02-21T23:23:18.115998Z"
    },
    "papermill": {
     "duration": 0.088706,
     "end_time": "2024-02-21T23:23:18.120400",
     "exception": false,
     "start_time": "2024-02-21T23:23:18.031694",
     "status": "completed"
    },
    "tags": []
   },
   "outputs": [
    {
     "data": {
      "text/html": [
       "<div>\n",
       "<style scoped>\n",
       "    .dataframe tbody tr th:only-of-type {\n",
       "        vertical-align: middle;\n",
       "    }\n",
       "\n",
       "    .dataframe tbody tr th {\n",
       "        vertical-align: top;\n",
       "    }\n",
       "\n",
       "    .dataframe thead th {\n",
       "        text-align: right;\n",
       "    }\n",
       "</style>\n",
       "<table border=\"1\" class=\"dataframe\">\n",
       "  <thead>\n",
       "    <tr style=\"text-align: right;\">\n",
       "      <th></th>\n",
       "      <th>Length</th>\n",
       "      <th>Diameter</th>\n",
       "      <th>Height</th>\n",
       "      <th>Weight</th>\n",
       "      <th>Shucked Weight</th>\n",
       "      <th>Viscera Weight</th>\n",
       "      <th>Shell Weight</th>\n",
       "      <th>Age</th>\n",
       "    </tr>\n",
       "  </thead>\n",
       "  <tbody>\n",
       "    <tr>\n",
       "      <th>count</th>\n",
       "      <td>74051.000000</td>\n",
       "      <td>74051.000000</td>\n",
       "      <td>74051.000000</td>\n",
       "      <td>74051.000000</td>\n",
       "      <td>74051.000000</td>\n",
       "      <td>74051.000000</td>\n",
       "      <td>74051.000000</td>\n",
       "      <td>74051.000000</td>\n",
       "    </tr>\n",
       "    <tr>\n",
       "      <th>mean</th>\n",
       "      <td>1.317460</td>\n",
       "      <td>1.024496</td>\n",
       "      <td>0.348089</td>\n",
       "      <td>23.385217</td>\n",
       "      <td>10.104270</td>\n",
       "      <td>5.058386</td>\n",
       "      <td>6.723870</td>\n",
       "      <td>9.967806</td>\n",
       "    </tr>\n",
       "    <tr>\n",
       "      <th>std</th>\n",
       "      <td>0.287757</td>\n",
       "      <td>0.237396</td>\n",
       "      <td>0.092034</td>\n",
       "      <td>12.648153</td>\n",
       "      <td>5.618025</td>\n",
       "      <td>2.792729</td>\n",
       "      <td>3.584372</td>\n",
       "      <td>3.175189</td>\n",
       "    </tr>\n",
       "    <tr>\n",
       "      <th>min</th>\n",
       "      <td>0.187500</td>\n",
       "      <td>0.137500</td>\n",
       "      <td>0.000000</td>\n",
       "      <td>0.056699</td>\n",
       "      <td>0.028349</td>\n",
       "      <td>0.042524</td>\n",
       "      <td>0.042524</td>\n",
       "      <td>1.000000</td>\n",
       "    </tr>\n",
       "    <tr>\n",
       "      <th>25%</th>\n",
       "      <td>1.150000</td>\n",
       "      <td>0.887500</td>\n",
       "      <td>0.300000</td>\n",
       "      <td>13.437663</td>\n",
       "      <td>5.712424</td>\n",
       "      <td>2.863300</td>\n",
       "      <td>3.968930</td>\n",
       "      <td>8.000000</td>\n",
       "    </tr>\n",
       "    <tr>\n",
       "      <th>50%</th>\n",
       "      <td>1.375000</td>\n",
       "      <td>1.075000</td>\n",
       "      <td>0.362500</td>\n",
       "      <td>23.799405</td>\n",
       "      <td>9.908150</td>\n",
       "      <td>4.989512</td>\n",
       "      <td>6.931453</td>\n",
       "      <td>10.000000</td>\n",
       "    </tr>\n",
       "    <tr>\n",
       "      <th>75%</th>\n",
       "      <td>1.537500</td>\n",
       "      <td>1.200000</td>\n",
       "      <td>0.412500</td>\n",
       "      <td>32.162508</td>\n",
       "      <td>14.033003</td>\n",
       "      <td>6.988152</td>\n",
       "      <td>9.071840</td>\n",
       "      <td>11.000000</td>\n",
       "    </tr>\n",
       "    <tr>\n",
       "      <th>max</th>\n",
       "      <td>2.012815</td>\n",
       "      <td>1.612500</td>\n",
       "      <td>2.825000</td>\n",
       "      <td>80.101512</td>\n",
       "      <td>42.184056</td>\n",
       "      <td>21.545620</td>\n",
       "      <td>28.491248</td>\n",
       "      <td>29.000000</td>\n",
       "    </tr>\n",
       "  </tbody>\n",
       "</table>\n",
       "</div>"
      ],
      "text/plain": [
       "             Length      Diameter        Height        Weight  Shucked Weight  \\\n",
       "count  74051.000000  74051.000000  74051.000000  74051.000000    74051.000000   \n",
       "mean       1.317460      1.024496      0.348089     23.385217       10.104270   \n",
       "std        0.287757      0.237396      0.092034     12.648153        5.618025   \n",
       "min        0.187500      0.137500      0.000000      0.056699        0.028349   \n",
       "25%        1.150000      0.887500      0.300000     13.437663        5.712424   \n",
       "50%        1.375000      1.075000      0.362500     23.799405        9.908150   \n",
       "75%        1.537500      1.200000      0.412500     32.162508       14.033003   \n",
       "max        2.012815      1.612500      2.825000     80.101512       42.184056   \n",
       "\n",
       "       Viscera Weight  Shell Weight           Age  \n",
       "count    74051.000000  74051.000000  74051.000000  \n",
       "mean         5.058386      6.723870      9.967806  \n",
       "std          2.792729      3.584372      3.175189  \n",
       "min          0.042524      0.042524      1.000000  \n",
       "25%          2.863300      3.968930      8.000000  \n",
       "50%          4.989512      6.931453     10.000000  \n",
       "75%          6.988152      9.071840     11.000000  \n",
       "max         21.545620     28.491248     29.000000  "
      ]
     },
     "execution_count": 4,
     "metadata": {},
     "output_type": "execute_result"
    }
   ],
   "source": [
    "krabs.describe()"
   ]
  },
  {
   "cell_type": "code",
   "execution_count": 5,
   "id": "c3e20a62",
   "metadata": {
    "execution": {
     "iopub.execute_input": "2024-02-21T23:23:18.140130Z",
     "iopub.status.busy": "2024-02-21T23:23:18.138485Z",
     "iopub.status.idle": "2024-02-21T23:23:18.294094Z",
     "shell.execute_reply": "2024-02-21T23:23:18.292636Z"
    },
    "papermill": {
     "duration": 0.16869,
     "end_time": "2024-02-21T23:23:18.297299",
     "exception": false,
     "start_time": "2024-02-21T23:23:18.128609",
     "status": "completed"
    },
    "tags": []
   },
   "outputs": [
    {
     "name": "stdout",
     "output_type": "stream",
     "text": [
      "<class 'pandas.core.frame.DataFrame'>\n",
      "Index: 49368 entries, 74051 to 123418\n",
      "Data columns (total 8 columns):\n",
      " #   Column          Non-Null Count  Dtype  \n",
      "---  ------          --------------  -----  \n",
      " 0   Sex             49368 non-null  object \n",
      " 1   Length          49368 non-null  float64\n",
      " 2   Diameter        49368 non-null  float64\n",
      " 3   Height          49368 non-null  float64\n",
      " 4   Weight          49368 non-null  float64\n",
      " 5   Shucked Weight  49368 non-null  float64\n",
      " 6   Viscera Weight  49368 non-null  float64\n",
      " 7   Shell Weight    49368 non-null  float64\n",
      "dtypes: float64(7), object(1)\n",
      "memory usage: 3.4+ MB\n"
     ]
    }
   ],
   "source": [
    "krabs_test = pd.read_csv('/kaggle/input/playground-series-s3e16/test.csv', index_col='id')\n",
    "krabs_test.info()"
   ]
  },
  {
   "cell_type": "markdown",
   "id": "ae96b791",
   "metadata": {
    "papermill": {
     "duration": 0.007537,
     "end_time": "2024-02-21T23:23:18.313500",
     "exception": false,
     "start_time": "2024-02-21T23:23:18.305963",
     "status": "completed"
    },
    "tags": []
   },
   "source": [
    "# Data exploration"
   ]
  },
  {
   "cell_type": "code",
   "execution_count": 6,
   "id": "3261b4af",
   "metadata": {
    "execution": {
     "iopub.execute_input": "2024-02-21T23:23:18.331831Z",
     "iopub.status.busy": "2024-02-21T23:23:18.331292Z",
     "iopub.status.idle": "2024-02-21T23:23:21.435984Z",
     "shell.execute_reply": "2024-02-21T23:23:21.434883Z"
    },
    "papermill": {
     "duration": 3.117787,
     "end_time": "2024-02-21T23:23:21.439306",
     "exception": false,
     "start_time": "2024-02-21T23:23:18.321519",
     "status": "completed"
    },
    "tags": []
   },
   "outputs": [
    {
     "data": {
      "text/plain": [
       "array([[<Axes: title={'center': 'Length'}>,\n",
       "        <Axes: title={'center': 'Diameter'}>,\n",
       "        <Axes: title={'center': 'Height'}>],\n",
       "       [<Axes: title={'center': 'Weight'}>,\n",
       "        <Axes: title={'center': 'Shucked Weight'}>,\n",
       "        <Axes: title={'center': 'Viscera Weight'}>],\n",
       "       [<Axes: title={'center': 'Shell Weight'}>,\n",
       "        <Axes: title={'center': 'Age'}>, <Axes: >]], dtype=object)"
      ]
     },
     "execution_count": 6,
     "metadata": {},
     "output_type": "execute_result"
    },
    {
     "data": {
      "image/png": "[encoded data removed]",
      "text/plain": [
       "<Figure size 1200x1200 with 9 Axes>"
      ]
     },
     "metadata": {},
     "output_type": "display_data"
    }
   ],
   "source": [
    "krabs.hist(bins=50, figsize=[12, 12])"
   ]
  },
  {
   "cell_type": "code",
   "execution_count": 7,
   "id": "8443b2c8",
   "metadata": {
    "execution": {
     "iopub.execute_input": "2024-02-21T23:23:21.461624Z",
     "iopub.status.busy": "2024-02-21T23:23:21.460485Z",
     "iopub.status.idle": "2024-02-21T23:23:21.500017Z",
     "shell.execute_reply": "2024-02-21T23:23:21.498516Z"
    },
    "papermill": {
     "duration": 0.054076,
     "end_time": "2024-02-21T23:23:21.503093",
     "exception": false,
     "start_time": "2024-02-21T23:23:21.449017",
     "status": "completed"
    },
    "tags": []
   },
   "outputs": [
    {
     "data": {
      "text/plain": [
       "Age               1.000000\n",
       "Shell Weight      0.663473\n",
       "Height            0.638067\n",
       "Diameter          0.621256\n",
       "Length            0.612843\n",
       "Weight            0.601195\n",
       "Viscera Weight    0.576808\n",
       "Shucked Weight    0.503320\n",
       "Name: Age, dtype: float64"
      ]
     },
     "execution_count": 7,
     "metadata": {},
     "output_type": "execute_result"
    }
   ],
   "source": [
    "corr_matrix = krabs[['Length', 'Diameter', 'Height', 'Weight', 'Shucked Weight', 'Viscera Weight', 'Shell Weight', 'Age']].corr()\n",
    "# mask = np.triu(np.ones_like(corr_matrix, dtype=bool))\n",
    "\n",
    "# # Set up the matplotlib figure\n",
    "# f, ax = plt.subplots(figsize=(11, 9))\n",
    "\n",
    "# # Generate a custom diverging colormap\n",
    "# cmap = sns.diverging_palette(230, 20, as_cmap=True)\n",
    "\n",
    "# # Draw the heatmap with the mask and correct aspect ratio\n",
    "# sns.heatmap(corr_matrix, mask=mask, cmap=cmap, vmax=.3, center=0,\n",
    "#     square=True, linewidths=.5, cbar_kws={\"shrink\": .5})\n",
    "corr_matrix['Age'].sort_values(ascending=False)"
   ]
  },
  {
   "cell_type": "markdown",
   "id": "bd0cf651",
   "metadata": {
    "papermill": {
     "duration": 0.009397,
     "end_time": "2024-02-21T23:23:21.522184",
     "exception": false,
     "start_time": "2024-02-21T23:23:21.512787",
     "status": "completed"
    },
    "tags": []
   },
   "source": [
    "# Data processing"
   ]
  },
  {
   "cell_type": "code",
   "execution_count": 8,
   "id": "343ecb12",
   "metadata": {
    "execution": {
     "iopub.execute_input": "2024-02-21T23:23:21.544346Z",
     "iopub.status.busy": "2024-02-21T23:23:21.543303Z",
     "iopub.status.idle": "2024-02-21T23:23:22.100170Z",
     "shell.execute_reply": "2024-02-21T23:23:22.098865Z"
    },
    "papermill": {
     "duration": 0.571473,
     "end_time": "2024-02-21T23:23:22.103379",
     "exception": false,
     "start_time": "2024-02-21T23:23:21.531906",
     "status": "completed"
    },
    "tags": []
   },
   "outputs": [],
   "source": [
    "from sklearn.pipeline import Pipeline\n",
    "from sklearn.preprocessing import StandardScaler\n",
    "from sklearn.preprocessing import OneHotEncoder\n",
    "from sklearn.compose import ColumnTransformer\n",
    "from sklearn.impute import SimpleImputer\n",
    "\n",
    "num_attributes = ['Length', 'Diameter', 'Height', 'Weight', 'Shucked Weight', 'Viscera Weight', 'Shell Weight']\n",
    "\n",
    "cat_attributes = ['Sex']\n",
    "\n",
    "num_pipe = Pipeline(\n",
    "    [(\"simpleimputer\", SimpleImputer()),\n",
    "    ('standardscaler', StandardScaler())]\n",
    ")\n",
    "\n",
    "cat_pipe = Pipeline(\n",
    "    [(\"simpleimputer\", SimpleImputer(strategy='most_frequent')),\n",
    "    ('encoder', OneHotEncoder(handle_unknown=\"ignore\"))]\n",
    ")\n",
    "\n",
    "preprocessing = ColumnTransformer(\n",
    "    [(\"num_pipeline\", num_pipe, num_attributes),\n",
    "    (\"cat_pipeline\", cat_pipe, cat_attributes)]\n",
    ")"
   ]
  },
  {
   "cell_type": "code",
   "execution_count": 9,
   "id": "9e89ff76",
   "metadata": {
    "execution": {
     "iopub.execute_input": "2024-02-21T23:23:22.125526Z",
     "iopub.status.busy": "2024-02-21T23:23:22.125044Z",
     "iopub.status.idle": "2024-02-21T23:23:22.225367Z",
     "shell.execute_reply": "2024-02-21T23:23:22.224122Z"
    },
    "papermill": {
     "duration": 0.115071,
     "end_time": "2024-02-21T23:23:22.228365",
     "exception": false,
     "start_time": "2024-02-21T23:23:22.113294",
     "status": "completed"
    },
    "tags": []
   },
   "outputs": [],
   "source": [
    "cooked_krabs = preprocessing.fit_transform(krabs)\n",
    "cooked_krabs_df = pd.DataFrame(cooked_krabs, columns=preprocessing.get_feature_names_out(), index=krabs.index)"
   ]
  },
  {
   "cell_type": "code",
   "execution_count": 10,
   "id": "30480266",
   "metadata": {
    "execution": {
     "iopub.execute_input": "2024-02-21T23:23:22.250524Z",
     "iopub.status.busy": "2024-02-21T23:23:22.249468Z",
     "iopub.status.idle": "2024-02-21T23:23:22.275436Z",
     "shell.execute_reply": "2024-02-21T23:23:22.274085Z"
    },
    "papermill": {
     "duration": 0.040175,
     "end_time": "2024-02-21T23:23:22.278376",
     "exception": false,
     "start_time": "2024-02-21T23:23:22.238201",
     "status": "completed"
    },
    "tags": []
   },
   "outputs": [
    {
     "data": {
      "text/html": [
       "<div>\n",
       "<style scoped>\n",
       "    .dataframe tbody tr th:only-of-type {\n",
       "        vertical-align: middle;\n",
       "    }\n",
       "\n",
       "    .dataframe tbody tr th {\n",
       "        vertical-align: top;\n",
       "    }\n",
       "\n",
       "    .dataframe thead th {\n",
       "        text-align: right;\n",
       "    }\n",
       "</style>\n",
       "<table border=\"1\" class=\"dataframe\">\n",
       "  <thead>\n",
       "    <tr style=\"text-align: right;\">\n",
       "      <th></th>\n",
       "      <th>num_pipeline__Length</th>\n",
       "      <th>num_pipeline__Diameter</th>\n",
       "      <th>num_pipeline__Height</th>\n",
       "      <th>num_pipeline__Weight</th>\n",
       "      <th>num_pipeline__Shucked Weight</th>\n",
       "      <th>num_pipeline__Viscera Weight</th>\n",
       "      <th>num_pipeline__Shell Weight</th>\n",
       "      <th>cat_pipeline__Sex_F</th>\n",
       "      <th>cat_pipeline__Sex_I</th>\n",
       "      <th>cat_pipeline__Sex_M</th>\n",
       "    </tr>\n",
       "    <tr>\n",
       "      <th>id</th>\n",
       "      <th></th>\n",
       "      <th></th>\n",
       "      <th></th>\n",
       "      <th></th>\n",
       "      <th></th>\n",
       "      <th></th>\n",
       "      <th></th>\n",
       "      <th></th>\n",
       "      <th></th>\n",
       "      <th></th>\n",
       "    </tr>\n",
       "  </thead>\n",
       "  <tbody>\n",
       "    <tr>\n",
       "      <th>0</th>\n",
       "      <td>0.721238</td>\n",
       "      <td>0.633982</td>\n",
       "      <td>0.292400</td>\n",
       "      <td>0.441804</td>\n",
       "      <td>0.467188</td>\n",
       "      <td>0.569186</td>\n",
       "      <td>0.453376</td>\n",
       "      <td>0.0</td>\n",
       "      <td>1.0</td>\n",
       "      <td>0.0</td>\n",
       "    </tr>\n",
       "    <tr>\n",
       "      <th>1</th>\n",
       "      <td>-0.755712</td>\n",
       "      <td>-0.840356</td>\n",
       "      <td>-0.794163</td>\n",
       "      <td>-1.025198</td>\n",
       "      <td>-0.993688</td>\n",
       "      <td>-0.978880</td>\n",
       "      <td>-0.926788</td>\n",
       "      <td>0.0</td>\n",
       "      <td>1.0</td>\n",
       "      <td>0.0</td>\n",
       "    </tr>\n",
       "    <tr>\n",
       "      <th>2</th>\n",
       "      <td>0.243401</td>\n",
       "      <td>0.370707</td>\n",
       "      <td>0.292400</td>\n",
       "      <td>0.110076</td>\n",
       "      <td>0.219924</td>\n",
       "      <td>0.178363</td>\n",
       "      <td>-0.017224</td>\n",
       "      <td>0.0</td>\n",
       "      <td>0.0</td>\n",
       "      <td>1.0</td>\n",
       "    </tr>\n",
       "    <tr>\n",
       "      <th>3</th>\n",
       "      <td>1.329394</td>\n",
       "      <td>1.634426</td>\n",
       "      <td>1.650603</td>\n",
       "      <td>2.156483</td>\n",
       "      <td>1.824616</td>\n",
       "      <td>2.124622</td>\n",
       "      <td>2.308095</td>\n",
       "      <td>1.0</td>\n",
       "      <td>0.0</td>\n",
       "      <td>0.0</td>\n",
       "    </tr>\n",
       "    <tr>\n",
       "      <th>4</th>\n",
       "      <td>-0.234435</td>\n",
       "      <td>-0.050532</td>\n",
       "      <td>-0.115061</td>\n",
       "      <td>-0.007598</td>\n",
       "      <td>0.333464</td>\n",
       "      <td>-0.197233</td>\n",
       "      <td>-0.214955</td>\n",
       "      <td>0.0</td>\n",
       "      <td>1.0</td>\n",
       "      <td>0.0</td>\n",
       "    </tr>\n",
       "    <tr>\n",
       "      <th>...</th>\n",
       "      <td>...</td>\n",
       "      <td>...</td>\n",
       "      <td>...</td>\n",
       "      <td>...</td>\n",
       "      <td>...</td>\n",
       "      <td>...</td>\n",
       "      <td>...</td>\n",
       "      <td>...</td>\n",
       "      <td>...</td>\n",
       "      <td>...</td>\n",
       "    </tr>\n",
       "    <tr>\n",
       "      <th>74046</th>\n",
       "      <td>1.199075</td>\n",
       "      <td>1.002567</td>\n",
       "      <td>0.971501</td>\n",
       "      <td>2.156483</td>\n",
       "      <td>1.882648</td>\n",
       "      <td>1.899000</td>\n",
       "      <td>1.564626</td>\n",
       "      <td>1.0</td>\n",
       "      <td>0.0</td>\n",
       "      <td>0.0</td>\n",
       "    </tr>\n",
       "    <tr>\n",
       "      <th>74047</th>\n",
       "      <td>-0.842591</td>\n",
       "      <td>-0.682391</td>\n",
       "      <td>-0.794163</td>\n",
       "      <td>-1.022957</td>\n",
       "      <td>-1.029011</td>\n",
       "      <td>-0.989031</td>\n",
       "      <td>-0.887242</td>\n",
       "      <td>0.0</td>\n",
       "      <td>1.0</td>\n",
       "      <td>0.0</td>\n",
       "    </tr>\n",
       "    <tr>\n",
       "      <th>74048</th>\n",
       "      <td>0.590919</td>\n",
       "      <td>0.739292</td>\n",
       "      <td>0.699861</td>\n",
       "      <td>0.482150</td>\n",
       "      <td>0.391495</td>\n",
       "      <td>0.888951</td>\n",
       "      <td>0.378238</td>\n",
       "      <td>1.0</td>\n",
       "      <td>0.0</td>\n",
       "      <td>0.0</td>\n",
       "    </tr>\n",
       "    <tr>\n",
       "      <th>74049</th>\n",
       "      <td>-0.364754</td>\n",
       "      <td>-0.261152</td>\n",
       "      <td>-0.386702</td>\n",
       "      <td>-0.523122</td>\n",
       "      <td>-0.201434</td>\n",
       "      <td>-0.765703</td>\n",
       "      <td>-0.681601</td>\n",
       "      <td>0.0</td>\n",
       "      <td>1.0</td>\n",
       "      <td>0.0</td>\n",
       "    </tr>\n",
       "    <tr>\n",
       "      <th>74050</th>\n",
       "      <td>-1.407307</td>\n",
       "      <td>-1.472215</td>\n",
       "      <td>-1.609085</td>\n",
       "      <td>-1.423048</td>\n",
       "      <td>-1.432707</td>\n",
       "      <td>-1.440762</td>\n",
       "      <td>-1.401343</td>\n",
       "      <td>0.0</td>\n",
       "      <td>1.0</td>\n",
       "      <td>0.0</td>\n",
       "    </tr>\n",
       "  </tbody>\n",
       "</table>\n",
       "<p>74051 rows × 10 columns</p>\n",
       "</div>"
      ],
      "text/plain": [
       "       num_pipeline__Length  num_pipeline__Diameter  num_pipeline__Height  \\\n",
       "id                                                                          \n",
       "0                  0.721238                0.633982              0.292400   \n",
       "1                 -0.755712               -0.840356             -0.794163   \n",
       "2                  0.243401                0.370707              0.292400   \n",
       "3                  1.329394                1.634426              1.650603   \n",
       "4                 -0.234435               -0.050532             -0.115061   \n",
       "...                     ...                     ...                   ...   \n",
       "74046              1.199075                1.002567              0.971501   \n",
       "74047             -0.842591               -0.682391             -0.794163   \n",
       "74048              0.590919                0.739292              0.699861   \n",
       "74049             -0.364754               -0.261152             -0.386702   \n",
       "74050             -1.407307               -1.472215             -1.609085   \n",
       "\n",
       "       num_pipeline__Weight  num_pipeline__Shucked Weight  \\\n",
       "id                                                          \n",
       "0                  0.441804                      0.467188   \n",
       "1                 -1.025198                     -0.993688   \n",
       "2                  0.110076                      0.219924   \n",
       "3                  2.156483                      1.824616   \n",
       "4                 -0.007598                      0.333464   \n",
       "...                     ...                           ...   \n",
       "74046              2.156483                      1.882648   \n",
       "74047             -1.022957                     -1.029011   \n",
       "74048              0.482150                      0.391495   \n",
       "74049             -0.523122                     -0.201434   \n",
       "74050             -1.423048                     -1.432707   \n",
       "\n",
       "       num_pipeline__Viscera Weight  num_pipeline__Shell Weight  \\\n",
       "id                                                                \n",
       "0                          0.569186                    0.453376   \n",
       "1                         -0.978880                   -0.926788   \n",
       "2                          0.178363                   -0.017224   \n",
       "3                          2.124622                    2.308095   \n",
       "4                         -0.197233                   -0.214955   \n",
       "...                             ...                         ...   \n",
       "74046                      1.899000                    1.564626   \n",
       "74047                     -0.989031                   -0.887242   \n",
       "74048                      0.888951                    0.378238   \n",
       "74049                     -0.765703                   -0.681601   \n",
       "74050                     -1.440762                   -1.401343   \n",
       "\n",
       "       cat_pipeline__Sex_F  cat_pipeline__Sex_I  cat_pipeline__Sex_M  \n",
       "id                                                                    \n",
       "0                      0.0                  1.0                  0.0  \n",
       "1                      0.0                  1.0                  0.0  \n",
       "2                      0.0                  0.0                  1.0  \n",
       "3                      1.0                  0.0                  0.0  \n",
       "4                      0.0                  1.0                  0.0  \n",
       "...                    ...                  ...                  ...  \n",
       "74046                  1.0                  0.0                  0.0  \n",
       "74047                  0.0                  1.0                  0.0  \n",
       "74048                  1.0                  0.0                  0.0  \n",
       "74049                  0.0                  1.0                  0.0  \n",
       "74050                  0.0                  1.0                  0.0  \n",
       "\n",
       "[74051 rows x 10 columns]"
      ]
     },
     "execution_count": 10,
     "metadata": {},
     "output_type": "execute_result"
    }
   ],
   "source": [
    "cooked_krabs_df"
   ]
  },
  {
   "cell_type": "markdown",
   "id": "ecb6bcd7",
   "metadata": {
    "papermill": {
     "duration": 0.009927,
     "end_time": "2024-02-21T23:23:22.298659",
     "exception": false,
     "start_time": "2024-02-21T23:23:22.288732",
     "status": "completed"
    },
    "tags": []
   },
   "source": [
    "# Model training"
   ]
  },
  {
   "cell_type": "code",
   "execution_count": 11,
   "id": "d2ffa798",
   "metadata": {
    "execution": {
     "iopub.execute_input": "2024-02-21T23:23:22.323477Z",
     "iopub.status.busy": "2024-02-21T23:23:22.322425Z",
     "iopub.status.idle": "2024-02-21T23:23:22.330285Z",
     "shell.execute_reply": "2024-02-21T23:23:22.329093Z"
    },
    "papermill": {
     "duration": 0.023057,
     "end_time": "2024-02-21T23:23:22.333304",
     "exception": false,
     "start_time": "2024-02-21T23:23:22.310247",
     "status": "completed"
    },
    "tags": []
   },
   "outputs": [],
   "source": [
    "x_train = cooked_krabs_df\n",
    "y_train = krabs[['Age']]"
   ]
  },
  {
   "cell_type": "code",
   "execution_count": 12,
   "id": "9ffcc8ba",
   "metadata": {
    "execution": {
     "iopub.execute_input": "2024-02-21T23:23:22.356982Z",
     "iopub.status.busy": "2024-02-21T23:23:22.356022Z",
     "iopub.status.idle": "2024-02-21T23:23:22.451860Z",
     "shell.execute_reply": "2024-02-21T23:23:22.450320Z"
    },
    "papermill": {
     "duration": 0.113199,
     "end_time": "2024-02-21T23:23:22.457064",
     "exception": false,
     "start_time": "2024-02-21T23:23:22.343865",
     "status": "completed"
    },
    "tags": []
   },
   "outputs": [
    {
     "data": {
      "text/html": [
       "<style>#sk-container-id-1 {color: black;background-color: white;}#sk-container-id-1 pre{padding: 0;}#sk-container-id-1 div.sk-toggleable {background-color: white;}#sk-container-id-1 label.sk-toggleable__label {cursor: pointer;display: block;width: 100%;margin-bottom: 0;padding: 0.3em;box-sizing: border-box;text-align: center;}#sk-container-id-1 label.sk-toggleable__label-arrow:before {content: \"▸\";float: left;margin-right: 0.25em;color: #696969;}#sk-container-id-1 label.sk-toggleable__label-arrow:hover:before {color: black;}#sk-container-id-1 div.sk-estimator:hover label.sk-toggleable__label-arrow:before {color: black;}#sk-container-id-1 div.sk-toggleable__content {max-height: 0;max-width: 0;overflow: hidden;text-align: left;background-color: #f0f8ff;}#sk-container-id-1 div.sk-toggleable__content pre {margin: 0.2em;color: black;border-radius: 0.25em;background-color: #f0f8ff;}#sk-container-id-1 input.sk-toggleable__control:checked~div.sk-toggleable__content {max-height: 200px;max-width: 100%;overflow: auto;}#sk-container-id-1 input.sk-toggleable__control:checked~label.sk-toggleable__label-arrow:before {content: \"▾\";}#sk-container-id-1 div.sk-estimator input.sk-toggleable__control:checked~label.sk-toggleable__label {background-color: #d4ebff;}#sk-container-id-1 div.sk-label input.sk-toggleable__control:checked~label.sk-toggleable__label {background-color: #d4ebff;}#sk-container-id-1 input.sk-hidden--visually {border: 0;clip: rect(1px 1px 1px 1px);clip: rect(1px, 1px, 1px, 1px);height: 1px;margin: -1px;overflow: hidden;padding: 0;position: absolute;width: 1px;}#sk-container-id-1 div.sk-estimator {font-family: monospace;background-color: #f0f8ff;border: 1px dotted black;border-radius: 0.25em;box-sizing: border-box;margin-bottom: 0.5em;}#sk-container-id-1 div.sk-estimator:hover {background-color: #d4ebff;}#sk-container-id-1 div.sk-parallel-item::after {content: \"\";width: 100%;border-bottom: 1px solid gray;flex-grow: 1;}#sk-container-id-1 div.sk-label:hover label.sk-toggleable__label {background-color: #d4ebff;}#sk-container-id-1 div.sk-serial::before {content: \"\";position: absolute;border-left: 1px solid gray;box-sizing: border-box;top: 0;bottom: 0;left: 50%;z-index: 0;}#sk-container-id-1 div.sk-serial {display: flex;flex-direction: column;align-items: center;background-color: white;padding-right: 0.2em;padding-left: 0.2em;position: relative;}#sk-container-id-1 div.sk-item {position: relative;z-index: 1;}#sk-container-id-1 div.sk-parallel {display: flex;align-items: stretch;justify-content: center;background-color: white;position: relative;}#sk-container-id-1 div.sk-item::before, #sk-container-id-1 div.sk-parallel-item::before {content: \"\";position: absolute;border-left: 1px solid gray;box-sizing: border-box;top: 0;bottom: 0;left: 50%;z-index: -1;}#sk-container-id-1 div.sk-parallel-item {display: flex;flex-direction: column;z-index: 1;position: relative;background-color: white;}#sk-container-id-1 div.sk-parallel-item:first-child::after {align-self: flex-end;width: 50%;}#sk-container-id-1 div.sk-parallel-item:last-child::after {align-self: flex-start;width: 50%;}#sk-container-id-1 div.sk-parallel-item:only-child::after {width: 0;}#sk-container-id-1 div.sk-dashed-wrapped {border: 1px dashed gray;margin: 0 0.4em 0.5em 0.4em;box-sizing: border-box;padding-bottom: 0.4em;background-color: white;}#sk-container-id-1 div.sk-label label {font-family: monospace;font-weight: bold;display: inline-block;line-height: 1.2em;}#sk-container-id-1 div.sk-label-container {text-align: center;}#sk-container-id-1 div.sk-container {/* jupyter's `normalize.less` sets `[hidden] { display: none; }` but bootstrap.min.css set `[hidden] { display: none !important; }` so we also need the `!important` here to be able to override the default hidden behavior on the sphinx rendered scikit-learn.org. See: https://github.com/scikit-learn/scikit-learn/issues/21755 */display: inline-block !important;position: relative;}#sk-container-id-1 div.sk-text-repr-fallback {display: none;}</style><div id=\"sk-container-id-1\" class=\"sk-top-container\"><div class=\"sk-text-repr-fallback\"><pre>LinearRegression()</pre><b>In a Jupyter environment, please rerun this cell to show the HTML representation or trust the notebook. <br />On GitHub, the HTML representation is unable to render, please try loading this page with nbviewer.org.</b></div><div class=\"sk-container\" hidden><div class=\"sk-item\"><div class=\"sk-estimator sk-toggleable\"><input class=\"sk-toggleable__control sk-hidden--visually\" id=\"sk-estimator-id-1\" type=\"checkbox\" checked><label for=\"sk-estimator-id-1\" class=\"sk-toggleable__label sk-toggleable__label-arrow\">LinearRegression</label><div class=\"sk-toggleable__content\"><pre>LinearRegression()</pre></div></div></div></div></div>"
      ],
      "text/plain": [
       "LinearRegression()"
      ]
     },
     "execution_count": 12,
     "metadata": {},
     "output_type": "execute_result"
    }
   ],
   "source": [
    "from sklearn.linear_model import LinearRegression\n",
    "\n",
    "model = LinearRegression()\n",
    "model.fit(x_train, y_train)"
   ]
  },
  {
   "cell_type": "code",
   "execution_count": 13,
   "id": "4aef5d24",
   "metadata": {
    "execution": {
     "iopub.execute_input": "2024-02-21T23:23:22.506867Z",
     "iopub.status.busy": "2024-02-21T23:23:22.505012Z",
     "iopub.status.idle": "2024-02-21T23:23:22.547324Z",
     "shell.execute_reply": "2024-02-21T23:23:22.545061Z"
    },
    "papermill": {
     "duration": 0.073209,
     "end_time": "2024-02-21T23:23:22.552569",
     "exception": false,
     "start_time": "2024-02-21T23:23:22.479360",
     "status": "completed"
    },
    "tags": []
   },
   "outputs": [
    {
     "name": "stdout",
     "output_type": "stream",
     "text": [
      "1.4822317628935555\n"
     ]
    }
   ],
   "source": [
    "from sklearn.metrics import mean_absolute_error\n",
    "\n",
    "predictions = model.predict(x_train)\n",
    "print(mean_absolute_error(y_train, predictions))"
   ]
  },
  {
   "cell_type": "code",
   "execution_count": 14,
   "id": "59953fb4",
   "metadata": {
    "execution": {
     "iopub.execute_input": "2024-02-21T23:23:22.600472Z",
     "iopub.status.busy": "2024-02-21T23:23:22.599638Z",
     "iopub.status.idle": "2024-02-21T23:23:22.678751Z",
     "shell.execute_reply": "2024-02-21T23:23:22.676860Z"
    },
    "papermill": {
     "duration": 0.109447,
     "end_time": "2024-02-21T23:23:22.684214",
     "exception": false,
     "start_time": "2024-02-21T23:23:22.574767",
     "status": "completed"
    },
    "tags": []
   },
   "outputs": [
    {
     "name": "stderr",
     "output_type": "stream",
     "text": [
      "/opt/conda/lib/python3.10/site-packages/sklearn/base.py:439: UserWarning: X does not have valid feature names, but LinearRegression was fitted with feature names\n",
      "  warnings.warn(\n"
     ]
    }
   ],
   "source": [
    "x_test = preprocessing.transform(krabs_test)\n",
    "test_pred = model.predict(x_test)\n",
    "submission_df = pd.DataFrame({\"id\":krabs_test.index, \"Age\":np.squeeze(test_pred)})"
   ]
  },
  {
   "cell_type": "code",
   "execution_count": 15,
   "id": "b3f99f1d",
   "metadata": {
    "execution": {
     "iopub.execute_input": "2024-02-21T23:23:22.731812Z",
     "iopub.status.busy": "2024-02-21T23:23:22.730933Z",
     "iopub.status.idle": "2024-02-21T23:23:22.937976Z",
     "shell.execute_reply": "2024-02-21T23:23:22.936496Z"
    },
    "papermill": {
     "duration": 0.23467,
     "end_time": "2024-02-21T23:23:22.941110",
     "exception": false,
     "start_time": "2024-02-21T23:23:22.706440",
     "status": "completed"
    },
    "tags": []
   },
   "outputs": [],
   "source": [
    "submission_df.to_csv('submission.csv', index=False)"
   ]
  }
 ],
 "metadata": {
  "kaggle": {
   "accelerator": "none",
   "dataSources": [
    {
     "databundleVersionId": 5884542,
     "sourceId": 51983,
     "sourceType": "competition"
    }
   ],
   "dockerImageVersionId": 30646,
   "isGpuEnabled": false,
   "isInternetEnabled": true,
   "language": "python",
   "sourceType": "notebook"
  },
  "kernelspec": {
   "display_name": "Python 3",
   "language": "python",
   "name": "python3"
  },
  "language_info": {
   "codemirror_mode": {
    "name": "ipython",
    "version": 3
   },
   "file_extension": ".py",
   "mimetype": "text/x-python",
   "name": "python",
   "nbconvert_exporter": "python",
   "pygments_lexer": "ipython3",
   "version": "3.10.13"
  },
  "papermill": {
   "default_parameters": {},
   "duration": 12.906138,
   "end_time": "2024-02-21T23:23:23.979372",
   "environment_variables": {},
   "exception": null,
   "input_path": "__notebook__.ipynb",
   "output_path": "__notebook__.ipynb",
   "parameters": {},
   "start_time": "2024-02-21T23:23:11.073234",
   "version": "2.5.0"
  }
 },
 "nbformat": 4,
 "nbformat_minor": 5
}
